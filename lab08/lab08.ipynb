{
 "cells": [
  {
   "cell_type": "code",
   "execution_count": null,
   "metadata": {},
   "outputs": [],
   "source": [
    "Pkg.add(\"FFTW\")"
   ]
  },
  {
   "cell_type": "code",
   "execution_count": null,
   "metadata": {},
   "outputs": [],
   "source": [
    "Fs = 1024;  \n",
    "t = 0:1/(Fs-1):1; \n",
    "x= sin.(2*pi*t*200) + 2* sin.(2*pi*t*400)"
   ]
  },
  {
   "cell_type": "code",
   "execution_count": null,
   "metadata": {},
   "outputs": [],
   "source": [
    "using Plots\n",
    "plot(t,x)"
   ]
  },
  {
   "cell_type": "code",
   "execution_count": null,
   "metadata": {},
   "outputs": [],
   "source": [
    "using FFTW\n",
    "y=fft(x)"
   ]
  },
  {
   "cell_type": "code",
   "execution_count": null,
   "metadata": {},
   "outputs": [],
   "source": [
    "sticks((abs.(fft(x))))"
   ]
  },
  {
   "cell_type": "code",
   "execution_count": null,
   "metadata": {},
   "outputs": [],
   "source": [
    "xsf=0:0.01:10\n",
    "A = [sin(x) for x in xsf]"
   ]
  },
  {
   "cell_type": "code",
   "execution_count": null,
   "metadata": {},
   "outputs": [],
   "source": [
    "plot(xsf,A)"
   ]
  },
  {
   "cell_type": "code",
   "execution_count": null,
   "metadata": {},
   "outputs": [],
   "source": [
    "B = [sin(x)+rand()/10 for x in xsf]"
   ]
  },
  {
   "cell_type": "code",
   "execution_count": null,
   "metadata": {},
   "outputs": [],
   "source": [
    "plot(xsf,B)"
   ]
  },
  {
   "cell_type": "code",
   "execution_count": null,
   "metadata": {},
   "outputs": [],
   "source": [
    "y = fft(B)\n",
    "sticks(xsf, (abs.(y)))\n",
    "y2 = [if abs(x) > 50 x else convert(Complex{Float64},0 + 0im) end for x in y]\n",
    "sticks(xsf, (abs.(y)))"
   ]
  },
  {
   "cell_type": "code",
   "execution_count": null,
   "metadata": {},
   "outputs": [],
   "source": [
    "y3 = ifft(y2)"
   ]
  },
  {
   "cell_type": "code",
   "execution_count": null,
   "metadata": {},
   "outputs": [],
   "source": [
    "y4 = [x.re for x in y3]\n",
    "plot(xsf,y4)"
   ]
  },
  {
   "cell_type": "code",
   "execution_count": null,
   "metadata": {},
   "outputs": [],
   "source": [
    "Pkg.add(\"WAV\")\n",
    "Pkg.add(\"PlotlyJS\")\n",
    "using WAV, PlotlyJS"
   ]
  },
  {
   "cell_type": "code",
   "execution_count": null,
   "metadata": {},
   "outputs": [],
   "source": [
    "snd, sampFreq = wavread(\"sound2.wav\")\n",
    "a =size(snd,1)\n",
    "s1 = snd[:,1] \n",
    "timeArray = (0:(a-1)) / sampFreq\n",
    "timeArray = timeArray * 1000 #scale to milliseconds"
   ]
  },
  {
   "cell_type": "code",
   "execution_count": null,
   "metadata": {},
   "outputs": [],
   "source": [
    "plot(scatter(;x=timeArray, y=s1),\n",
    "     Layout(xaxis_title=\"Time (ms)\",\n",
    "            xaxis_zeroline=false,\n",
    "            xaxis_showline=true,\n",
    "            xaxis_mirror=true,\n",
    "            yaxis_title=\"Amplitude\",\n",
    "            yaxis_zeroline=false,\n",
    "            yaxis_showline=true,\n",
    "            yaxis_mirror=true))"
   ]
  },
  {
   "cell_type": "code",
   "execution_count": null,
   "metadata": {},
   "outputs": [],
   "source": [
    "Pkg.add(\"FFTW\")\n",
    "using FFTW"
   ]
  },
  {
   "cell_type": "code",
   "execution_count": null,
   "metadata": {},
   "outputs": [],
   "source": [
    "y = fft(s1)\n",
    "y2 = [if abs(x) > 50 x else convert(Complex{Float64},0 + 0im) end for x in y]\n",
    "y3 = ifft(y2)\n",
    "y4 = [x.re for x in y3]"
   ]
  },
  {
   "cell_type": "code",
   "execution_count": null,
   "metadata": {},
   "outputs": [],
   "source": [
    "plot(scatter(;x=timeArray, y=y4),\n",
    "     Layout(xaxis_title=\"Time (ms)\",\n",
    "            xaxis_zeroline=false,\n",
    "            xaxis_showline=true,\n",
    "            xaxis_mirror=true,\n",
    "            yaxis_title=\"Amplitude\",\n",
    "            yaxis_zeroline=false,\n",
    "            yaxis_showline=true,\n",
    "            yaxis_mirror=true))"
   ]
  },
  {
   "cell_type": "code",
   "execution_count": null,
   "metadata": {},
   "outputs": [],
   "source": [
    "wavwrite(y4,\"processed.wav\",Fs=sampFreq)"
   ]
  }
 ],
 "metadata": {
  "kernelspec": {
   "display_name": "Julia 1.0.3",
   "language": "julia",
   "name": "julia-1.0"
  },
  "language_info": {
   "file_extension": ".jl",
   "mimetype": "application/julia",
   "name": "julia",
   "version": "1.0.3"
  }
 },
 "nbformat": 4,
 "nbformat_minor": 2
}
